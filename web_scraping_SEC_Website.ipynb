{
 "cells": [
  {
   "cell_type": "code",
   "execution_count": 1,
   "metadata": {
    "id": "mOJMpY8gkfLj"
   },
   "outputs": [],
   "source": [
    "#libraries\n",
    "from urllib import request\n",
    "from bs4 import BeautifulSoup\n",
    "import re\n",
    "import pandas as pd"
   ]
  },
  {
   "cell_type": "markdown",
   "metadata": {
    "id": "oFmwGc9n_qui"
   },
   "source": [
    "#market manipulations"
   ]
  },
  {
   "cell_type": "code",
   "execution_count": 2,
   "metadata": {
    "id": "ylYEc_Lh_0X7"
   },
   "outputs": [],
   "source": [
    "#function for scrape market manipuations\n",
    "\n",
    "def market_mal():\n",
    "  #list items for market manupulations\n",
    "  #list of column names\n",
    "  m_mal_col_names = []\n",
    "  #list of market manipulations\n",
    "  m_mal_actions =[]\n",
    "  #list of market manipulations details\n",
    "  m_mal_details =[]\n",
    "  #list of market manipulators' names\n",
    "  m_mal_names=[]\n",
    "\n",
    "  #list of div element classes\n",
    "  #list of div element classes for market manipulations\n",
    "  m_mal_act_elements=[]\n",
    "  #list of div element classes for market manipulators' names\n",
    "  m_mal_name_elements=[]\n",
    "\n",
    "  #scrape market manipulations\n",
    "  url=\"https://www.sec.gov.lk/market-price-manipulation/\"\n",
    "  response = request.urlopen(url).read()\n",
    "  soup= BeautifulSoup(response, \"html.parser\")\n",
    "  div_count = len(soup.find('div',class_=\"panel-layout\"))\n",
    "\n",
    "  #get column names for the dataframe\n",
    "  col_name = soup.find_all(\"h3\",class_=\"widget-title\")\n",
    "  #add them to list\n",
    "  for i in col_name:\n",
    "    text = i.get_text()\n",
    "    m_mal_col_names.append(text)\n",
    "\n",
    "  #create div element classes for market manipulators' names\n",
    "  for i in range(3,div_count,2):\n",
    "    sti = str(i)\n",
    "    val=\"border-bottom-type wid-des panel-widget-style panel-widget-style-for-3536-\" + sti + \"-1-0\"\n",
    "    m_mal_name_elements.append(val)\n",
    "  #get market manipulators' names\n",
    "  for element in m_mal_name_elements:\n",
    "    name = soup.find_all(\"div\",class_=element)\n",
    "    #add them to list\n",
    "    for i in name:\n",
    "      text = i.get_text()\n",
    "      m_mal_names.append(text)\n",
    "  #clear names columns\n",
    "  m_mal_names = [item.replace('\\n', '').replace('\\xa0', '') for item in m_mal_names]\n",
    "  # Define a regular expression pattern to match numbers\n",
    "  pattern = r'\\d+'\n",
    "  # Use a list comprehension and re.sub() to add commas in front of numbers\n",
    "  m_mal_names = [re.sub(pattern, lambda match: ',' + match.group(0), item) for item in m_mal_names]\n",
    "\n",
    "  #create div element classes for market manipulation actions\n",
    "  for i in range(3,div_count,2):\n",
    "    sti = str(i)\n",
    "    val=\"border-bottom-type wid-des panel-widget-style panel-widget-style-for-3536-\" + sti + \"-0-0\"\n",
    "    m_mal_act_elements.append(val)\n",
    "  #get market manipulation actions\n",
    "  for element in m_mal_act_elements:\n",
    "    action = soup.find_all(\"div\",class_=element)\n",
    "    #add them to list\n",
    "    for i in action:\n",
    "      text = i.get_text()\n",
    "      m_mal_actions.append(text)\n",
    "  #clear names columns\n",
    "  m_mal_actions = [item.rstrip('\\n') for item in m_mal_actions]\n",
    "\n",
    "  #get details\n",
    "  detail = soup.find_all(\"p\",class_=\"text-wrapper\")\n",
    "  #add them to list\n",
    "  for i in detail:\n",
    "    text = i.get_text()\n",
    "    m_mal_details.append(text)\n",
    "\n",
    "  #creating dataframe\n",
    "  m_mal_data = pd.DataFrame(columns=m_mal_col_names)\n",
    "  m_mal_data['Type of enforcement action']=m_mal_actions\n",
    "  m_mal_data['Name of Party']=m_mal_names\n",
    "  m_mal_data['Conduct and outcome']=m_mal_details\n",
    "\n",
    "\n",
    "  #save dataframe\n",
    "  m_mal_data.to_csv('market_manipulation.csv', index=False)"
   ]
  },
  {
   "cell_type": "markdown",
   "metadata": {
    "id": "zcaNb_KTXDu5"
   },
   "source": [
    "# Insider trading"
   ]
  },
  {
   "cell_type": "code",
   "execution_count": 3,
   "metadata": {
    "id": "9QQ2sGs-XKhf"
   },
   "outputs": [],
   "source": [
    "#function for scrape insider dealings\n",
    "\n",
    "def insider_trading():\n",
    "  #list items for insider dealings\n",
    "  #list of column names\n",
    "  col_names = []\n",
    "  #list of insider dealings types\n",
    "  actions =[]\n",
    "  #list of insider dealings details\n",
    "  details =[]\n",
    "  #list of insider dealings names\n",
    "  names=[]\n",
    "\n",
    "  #list of div element classes\n",
    "  #list of div element classes for insider dealers'\n",
    "  act_elements=[]\n",
    "  #list of div element classes for insider dealers' names\n",
    "  name_elements=[]\n",
    "  #list of div element classes for insider dealers detail\n",
    "  detail_elements=[]\n",
    "\n",
    "\n",
    "  #scrape insider dealings\n",
    "  url=\"https://www.sec.gov.lk/insider-dealing/\"\n",
    "  response = request.urlopen(url).read()\n",
    "  soup= BeautifulSoup(response, \"html.parser\")\n",
    "  div_count = len(soup.find('div',class_=\"panel-layout\"))\n",
    "\n",
    "  #get column names for the dataframe\n",
    "  col_name = soup.find_all(\"h3\",class_=\"widget-title\")\n",
    "\n",
    "  #create div element classes for market manipulators' names\n",
    "  for i in range(2,div_count+1,2):\n",
    "    sti = str(i)\n",
    "    val=\"border-bottom-type wid-des panel-widget-style panel-widget-style-for-3445-\" + sti + \"-1-0\"\n",
    "    name_elements.append(val)\n",
    "\n",
    "  #get market manipulators' names\n",
    "  for element in name_elements:\n",
    "    name = soup.find_all(\"div\",class_=element)\n",
    "    #add them to list\n",
    "    for i in name:\n",
    "      text = i.get_text()\n",
    "      names.append(text)\n",
    "  #clear names columns\n",
    "  names = [item.replace('\\n', '').replace('\\xa0', '') for item in names]\n",
    "  # Define a regular expression pattern to match numbers\n",
    "  pattern = r'\\d+'\n",
    "  # Use a list comprehension and re.sub() to add commas in front of numbers\n",
    "  names = [re.sub(pattern, lambda match: ',' + match.group(0), item) for item in names]\n",
    "\n",
    "  #create div element classes for market manipulation actions\n",
    "  for i in range(2,div_count+1,2):\n",
    "    sti = str(i)\n",
    "    val=\"border-bottom-type wid-des panel-widget-style panel-widget-style-for-3445-\" + sti + \"-0-0\"\n",
    "    act_elements.append(val)\n",
    "  #get market manipulation actions\n",
    "  for element in act_elements:\n",
    "    action = soup.find_all(\"div\",class_=element)\n",
    "    #add them to list\n",
    "    for i in action:\n",
    "      text = i.get_text()\n",
    "      actions.append(text)\n",
    "  #clear names columns\n",
    "  actions = [item.rstrip('\\n') for item in actions]\n",
    "\n",
    "  #create div element classes for market manipulation actions\n",
    "  for i in range(2,div_count+1,2):\n",
    "    sti = str(i)\n",
    "    val= \"border-bottom-type wid-des panel-widget-style panel-widget-style-for-3445-\" + sti + \"-2-0\"\n",
    "    detail_elements.append(val)\n",
    "  #get market manipulation actions\n",
    "  for element in detail_elements:\n",
    "    detail = soup.find_all(\"div\",class_=element)\n",
    "    #add them to list\n",
    "    for i in detail:\n",
    "      text = i.get_text()\n",
    "      details.append(text)\n",
    "  #clear names columns\n",
    "  details = [item.rstrip('\\n') for item in details]\n",
    "\n",
    "  #creating dataframe\n",
    "  data = pd.DataFrame(columns=col_names)\n",
    "  data['Type of enforcement action']=actions\n",
    "  data['Name of Party']=names\n",
    "  data['Conduct and outcome']=details\n",
    "\n",
    "\n",
    "  #save dataframe\n",
    "  data.to_csv('insider_dealing.csv', index=False)"
   ]
  },
  {
   "cell_type": "code",
   "execution_count": 4,
   "metadata": {
    "id": "J0vLtgJ_UtMO"
   },
   "outputs": [],
   "source": [
    "market_mal()"
   ]
  },
  {
   "cell_type": "code",
   "execution_count": 5,
   "metadata": {
    "id": "fbGCmosRYfBH"
   },
   "outputs": [],
   "source": [
    "insider_trading()"
   ]
  },
  {
   "cell_type": "code",
   "execution_count": null,
   "metadata": {},
   "outputs": [],
   "source": [
    "#pip install schedule"
   ]
  },
  {
   "cell_type": "code",
   "execution_count": null,
   "metadata": {
    "id": "OGBov4wPwRHw"
   },
   "outputs": [],
   "source": [
    "import schedule\n",
    "import time\n",
    "\n",
    "schedule.every(24).hours.do(market_mal)\n",
    "schedule.every(24).hours.do(insider_trading)\n",
    "\n",
    "while True:\n",
    "    schedule.run_pending()\n",
    "    time.sleep(1)\n"
   ]
  },
  {
   "cell_type": "code",
   "execution_count": null,
   "metadata": {
    "id": "FqMy4R2WW6-m"
   },
   "outputs": [],
   "source": [
    "\n",
    "\n",
    "#nothing to scrape\n",
    "https://www.sec.gov.lk/front-running/\n",
    "\n",
    "https://www.sec.gov.lk/administrative-sanctions/\n",
    "\n",
    "https://www.sec.gov.lk/other-warnings/\n",
    "\n",
    "\n"
   ]
  },
  {
   "cell_type": "code",
   "execution_count": null,
   "metadata": {},
   "outputs": [],
   "source": []
  }
 ],
 "metadata": {
  "colab": {
   "provenance": []
  },
  "kernelspec": {
   "display_name": "Python 3",
   "language": "python",
   "name": "python3"
  },
  "language_info": {
   "codemirror_mode": {
    "name": "ipython",
    "version": 3
   },
   "file_extension": ".py",
   "mimetype": "text/x-python",
   "name": "python",
   "nbconvert_exporter": "python",
   "pygments_lexer": "ipython3",
   "version": "3.7.4"
  }
 },
 "nbformat": 4,
 "nbformat_minor": 1
}
